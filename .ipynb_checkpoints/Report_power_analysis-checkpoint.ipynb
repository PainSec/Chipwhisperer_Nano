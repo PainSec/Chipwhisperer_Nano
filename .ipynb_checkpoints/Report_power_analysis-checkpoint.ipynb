{
 "cells": [
  {
   "cell_type": "code",
   "execution_count": null,
   "id": "willing-intellectual",
   "metadata": {},
   "outputs": [],
   "source": [
    "print(\"This is SIMULATED version\")\n",
    "SCOPETYPE = 'CWNANO'\n",
    "PLATFORM = 'CWNANO'\n",
    "VERSION=\"SIMULATED\"\n"
   ]
  },
  {
   "cell_type": "code",
   "execution_count": null,
   "id": "amino-richmond",
   "metadata": {},
   "outputs": [],
   "source": [
    "%run \"Lab 2_1B - Power Analysis for Password Bypass (SIMULATED).ipynb\"   \n",
    "trace_h = cap_pass_trace(\"h\\n\")\n",
    "print(trace_h)\n",
    "import matplotlib.pyplot as plt\n"
   ]
  },
  {
   "cell_type": "code",
   "execution_count": null,
   "id": "front-elements",
   "metadata": {},
   "outputs": [],
   "source": [
    "from tqdm.notebook import tqdm\n",
    "plt.figure()\n",
    "for c in tqdm('abcdefghijklmnopqrstuvwxyz0123456789'):\n",
    "    trace = cap_pass_trace(c + \"\\n\")\n",
    "    plt.plot(trace[0:500])"
   ]
  },
  {
   "cell_type": "code",
   "execution_count": null,
   "id": "designing-glass",
   "metadata": {},
   "outputs": [],
   "source": [
    "%matplotlib inline\n",
    "import matplotlib.pylab as plt\n",
    "\n",
    "plt.figure()\n",
    "ref_trace = cap_pass_trace(\"h0p\\x00\\n\")[0:500]\n",
    "\n",
    "for c in 'abcdefghijklmnopqrstuvwxyz0123456789':\n",
    "    trace = cap_pass_trace('h0p' + c + \"\\n\")[0:500]\n",
    "    plt.plot(trace - ref_trace)"
   ]
  },
  {
   "cell_type": "code",
   "execution_count": null,
   "id": "formed-upset",
   "metadata": {},
   "outputs": [],
   "source": [
    "import numpy as np\n",
    "ref_trace = cap_pass_trace( \"h0p\\x00\\n\")\n",
    "\n",
    "for c in 'abcdefghijklmnopqrstuvwxyz0123456789':\n",
    "    trace = cap_pass_trace(\"h0p\" + c + \"\\n\")\n",
    "    diff = np.sum(np.abs(trace - ref_trace))\n",
    "\n",
    "    print(\"{:1} diff = {:2}\".format(c, diff))\n"
   ]
  },
  {
   "cell_type": "code",
   "execution_count": null,
   "id": "appointed-submission",
   "metadata": {},
   "outputs": [],
   "source": [
    "guessed_pw = \"\"\n",
    "for _ in range(0, 5):\n",
    "    ref_trace = cap_pass_trace(guessed_pw + \"\\x00\\n\")\n",
    "    for c in 'abcdefghijklmnopqrstuvwxyz0123456789':\n",
    "        trace = cap_pass_trace(guessed_pw + c + \"\\n\")\n",
    "        diff = np.sum(np.abs(trace - ref_trace))\n",
    "        if diff > 40.0:\n",
    "            guessed_pw += c\n",
    "            print(guessed_pw)\n",
    "            break"
   ]
  },
  {
   "cell_type": "code",
   "execution_count": null,
   "id": "first-printer",
   "metadata": {},
   "outputs": [],
   "source": []
  },
  {
   "cell_type": "code",
   "execution_count": null,
   "id": "electronic-recycling",
   "metadata": {},
   "outputs": [],
   "source": []
  },
  {
   "cell_type": "code",
   "execution_count": null,
   "id": "violent-wheel",
   "metadata": {},
   "outputs": [],
   "source": []
  },
  {
   "cell_type": "code",
   "execution_count": null,
   "id": "mighty-collar",
   "metadata": {},
   "outputs": [],
   "source": []
  }
 ],
 "metadata": {
  "kernelspec": {
   "display_name": "Python 3",
   "language": "python",
   "name": "python3"
  },
  "language_info": {
   "codemirror_mode": {
    "name": "ipython",
    "version": 3
   },
   "file_extension": ".py",
   "mimetype": "text/x-python",
   "name": "python",
   "nbconvert_exporter": "python",
   "pygments_lexer": "ipython3",
   "version": "3.9.2"
  }
 },
 "nbformat": 4,
 "nbformat_minor": 5
}
